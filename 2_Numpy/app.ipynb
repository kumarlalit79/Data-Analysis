{
 "cells": [
  {
   "cell_type": "markdown",
   "id": "d540563a",
   "metadata": {},
   "source": [
    "Basics"
   ]
  },
  {
   "cell_type": "code",
   "execution_count": 4,
   "id": "9ec5352b",
   "metadata": {},
   "outputs": [
    {
     "name": "stdout",
     "output_type": "stream",
     "text": [
      "List \n",
      " [1, 2, 3, 4, 5, 6]\n",
      "\n",
      " Numpy Array \n",
      " [1 2 3 4 5 6]\n"
     ]
    }
   ],
   "source": [
    "python_list = [1,2,3,4,5,6]\n",
    "print(\"List \\n\" , python_list)\n",
    "\n",
    "import numpy as np\n",
    "\n",
    "numpy_array = np.array([1,2,3,4,5,6])\n",
    "print(\"\\n Numpy Array \\n\" , numpy_array)\n"
   ]
  }
 ],
 "metadata": {
  "kernelspec": {
   "display_name": "Python 3",
   "language": "python",
   "name": "python3"
  },
  "language_info": {
   "codemirror_mode": {
    "name": "ipython",
    "version": 3
   },
   "file_extension": ".py",
   "mimetype": "text/x-python",
   "name": "python",
   "nbconvert_exporter": "python",
   "pygments_lexer": "ipython3",
   "version": "3.11.4"
  }
 },
 "nbformat": 4,
 "nbformat_minor": 5
}

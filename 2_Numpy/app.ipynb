{
 "cells": [
  {
   "cell_type": "markdown",
   "id": "d540563a",
   "metadata": {},
   "source": [
    "Basics"
   ]
  },
  {
   "cell_type": "code",
   "execution_count": null,
   "id": "9ec5352b",
   "metadata": {},
   "outputs": [],
   "source": [
    "python_list = [1,2,3,4,5,6]\n",
    "print(\"List \\n\" , python_list)\n",
    "\n",
    "import numpy as np\n",
    "\n",
    "numpy_array = np.array([1,2,3,4,5,6])\n",
    "print(\"\\n Numpy Array \\n\" , numpy_array)\n",
    "\n",
    "# this is called 1D array\n"
   ]
  },
  {
   "cell_type": "markdown",
   "id": "26a8d88b",
   "metadata": {},
   "source": [
    "2 D array - also called matrix"
   ]
  },
  {
   "cell_type": "code",
   "execution_count": null,
   "id": "df651511",
   "metadata": {},
   "outputs": [],
   "source": [
    "import numpy as np\n",
    "\n",
    "# isme rows and col dono hote hai\n",
    "numpy_array = np.array([[1,2,3],\n",
    "                        [4,5,6],\n",
    "                        [7,8,9]])\n",
    "print(numpy_array)"
   ]
  },
  {
   "cell_type": "markdown",
   "id": "0e68be9e",
   "metadata": {},
   "source": [
    "Multi Dimensional Array - also called matrix"
   ]
  },
  {
   "cell_type": "code",
   "execution_count": null,
   "id": "9cb0c363",
   "metadata": {},
   "outputs": [],
   "source": [
    "import numpy as np\n",
    "\n",
    "matrix = np.array([[2,4,6],\n",
    "                   [8,10,12]])\n",
    "print(matrix)"
   ]
  },
  {
   "cell_type": "markdown",
   "id": "eb9e20c5",
   "metadata": {},
   "source": [
    "Creating arrays from python list "
   ]
  },
  {
   "cell_type": "code",
   "execution_count": null,
   "id": "6bd5e043",
   "metadata": {},
   "outputs": [],
   "source": [
    "import numpy as np\n",
    "\n",
    "numpy_array = np.array([1,2,3,4,5,6])\n",
    "print(\"\\n Numpy Array \\n\" , numpy_array)"
   ]
  },
  {
   "cell_type": "markdown",
   "id": "7b763d0f",
   "metadata": {},
   "source": [
    "Array with default values"
   ]
  },
  {
   "cell_type": "code",
   "execution_count": null,
   "id": "f00028d6",
   "metadata": {},
   "outputs": [],
   "source": [
    "import numpy as np\n",
    "\n",
    "\n",
    "# default 0s value\n",
    "zeros_array = np.zeros(3)\n",
    "print(zeros_array)\n",
    "\n",
    "# default 1s value\n",
    "one_array = np.ones(3)\n",
    "print(one_array)\n",
    "\n",
    "one1_array = np.ones([2,3])\n",
    "print(one1_array)\n",
    "\n",
    "# with specific value - use full(shape , value)\n",
    "filled_arr = np.full([2,2] , 7)\n",
    "print(filled_arr)"
   ]
  },
  {
   "cell_type": "markdown",
   "id": "96c003f3",
   "metadata": {},
   "source": [
    "Creating sequences of array in numpy"
   ]
  },
  {
   "cell_type": "code",
   "execution_count": null,
   "id": "27f518a2",
   "metadata": {},
   "outputs": [],
   "source": [
    "import numpy as np\n",
    "\n",
    "arr = np.arange(1,10,2)\n",
    "print(arr)"
   ]
  },
  {
   "cell_type": "markdown",
   "id": "e5082218",
   "metadata": {},
   "source": [
    "Identity Matrix"
   ]
  },
  {
   "cell_type": "code",
   "execution_count": null,
   "id": "1da71c6d",
   "metadata": {},
   "outputs": [],
   "source": [
    "import numpy as np\n",
    "\n",
    "identity_matrix = np.eye(3)\n",
    "print(identity_matrix)"
   ]
  },
  {
   "cell_type": "markdown",
   "id": "ecfbab10",
   "metadata": {},
   "source": [
    "Checking Shape of array"
   ]
  },
  {
   "cell_type": "code",
   "execution_count": null,
   "id": "eafb7614",
   "metadata": {},
   "outputs": [],
   "source": [
    "import numpy as np\n",
    "\n",
    "arr_2D = np.array([[1,2,3] , [4,5,6]])\n",
    "print(\"Shape \\n\" , arr_2D.shape) \n",
    "\n",
    "# 2 rows and 3 columns"
   ]
  },
  {
   "cell_type": "markdown",
   "id": "5df60278",
   "metadata": {},
   "source": [
    "checking size of array"
   ]
  },
  {
   "cell_type": "code",
   "execution_count": null,
   "id": "4b42996a",
   "metadata": {},
   "outputs": [],
   "source": [
    "import numpy as np\n",
    "\n",
    "arr_2D = np.array([[1,2,3] , [4,5,6]])\n",
    "print(\"Size \\n\" , arr_2D.size) # It’ll return total number of elements in array"
   ]
  },
  {
   "cell_type": "markdown",
   "id": "d5c11518",
   "metadata": {},
   "source": [
    "Checking number of dimensions"
   ]
  },
  {
   "cell_type": "code",
   "execution_count": null,
   "id": "8232679d",
   "metadata": {},
   "outputs": [],
   "source": [
    "import numpy as np\n",
    "\n",
    "arr_2D = np.array([[[1,2,3] , [4,5,6]]])\n",
    "print(\"Dimensions \\n\" , arr_2D.ndim)"
   ]
  },
  {
   "cell_type": "markdown",
   "id": "c0258767",
   "metadata": {},
   "source": [
    "Checking Datatype"
   ]
  },
  {
   "cell_type": "code",
   "execution_count": null,
   "id": "05c6d2d9",
   "metadata": {},
   "outputs": [],
   "source": [
    "import numpy as np\n",
    "\n",
    "arr_2D = np.array([[[1,2,3] , [4,5,6]]])\n",
    "print(\"Data Type \\n\" , arr_2D.dtype)"
   ]
  },
  {
   "cell_type": "markdown",
   "id": "dd16d18c",
   "metadata": {},
   "source": [
    "Changing Datatype"
   ]
  },
  {
   "cell_type": "code",
   "execution_count": null,
   "id": "1ac8219c",
   "metadata": {},
   "outputs": [],
   "source": [
    "import numpy as np\n",
    "\n",
    "arr = np.array([1.2,2.3,3.4,4.5,5.6,6.7])\n",
    "print(\"\\n Original \\n\" , arr)\n",
    "\n",
    "int_arr = arr.astype(int)\n",
    "\n",
    "print(\"Convertin to int \\n\" , int_arr)\n",
    "\n",
    "print(\"Data Type :\" , int_arr.dtype)"
   ]
  },
  {
   "cell_type": "markdown",
   "id": "cd4de146",
   "metadata": {},
   "source": [
    "Mathematically operations"
   ]
  },
  {
   "cell_type": "code",
   "execution_count": null,
   "id": "069af849",
   "metadata": {},
   "outputs": [],
   "source": [
    "import numpy as np\n",
    "\n",
    "numpy_array = np.array([10,20,30,40,50,60])\n",
    "\n",
    "print(numpy_array + 2)\n",
    "print(numpy_array - 2)\n",
    "print(numpy_array * 2)"
   ]
  },
  {
   "cell_type": "markdown",
   "id": "f7bcbb27",
   "metadata": {},
   "source": [
    "Aggregation function"
   ]
  },
  {
   "cell_type": "code",
   "execution_count": null,
   "id": "e44778a8",
   "metadata": {},
   "outputs": [],
   "source": [
    "import numpy as np\n",
    "\n",
    "arr = np.array([10,20,30,40,50,60])\n",
    "\n",
    "print(arr.sum())\n",
    "print(arr.mean())\n",
    "print(arr.max())\n",
    "print(arr.min())\n",
    "print(arr.var())\n",
    "print(arr.std())"
   ]
  },
  {
   "cell_type": "markdown",
   "id": "dbb0d753",
   "metadata": {},
   "source": [
    "Indexing "
   ]
  },
  {
   "cell_type": "code",
   "execution_count": null,
   "id": "dcead574",
   "metadata": {},
   "outputs": [],
   "source": [
    "import numpy as np\n",
    "\n",
    "arr = np.array([10,20,30,40,50,60]) \n",
    "print(arr[0])\n",
    "print(arr[3])\n",
    "print(arr[-1])\n",
    "print(arr[-2])"
   ]
  },
  {
   "cell_type": "markdown",
   "id": "79a7632b",
   "metadata": {},
   "source": [
    "Slicing"
   ]
  },
  {
   "cell_type": "code",
   "execution_count": null,
   "id": "601071b9",
   "metadata": {},
   "outputs": [],
   "source": [
    "import numpy as np\n",
    "\n",
    "arr = np.array([10,20,30,40,50,60]) \n",
    "print(arr[1:5:2])\n",
    "print(arr[1:5])\n",
    "print(arr[0:5])\n",
    "print(arr[0:5:3])\n",
    "print(arr[::-1]) #it'll reverse the array"
   ]
  },
  {
   "cell_type": "markdown",
   "id": "12004f60",
   "metadata": {},
   "source": [
    "Fancy indexing"
   ]
  },
  {
   "cell_type": "code",
   "execution_count": null,
   "id": "ced31385",
   "metadata": {},
   "outputs": [],
   "source": [
    "import numpy as np\n",
    "\n",
    "arr = np.array([10,20,30,40,50,60]) \n",
    "\n",
    "print(arr[[0,2,4]]) # 0th index, 2nd index, and 4th index hame chhahiye\n"
   ]
  },
  {
   "cell_type": "markdown",
   "id": "fe66f362",
   "metadata": {},
   "source": [
    "Filtering Data"
   ]
  },
  {
   "cell_type": "code",
   "execution_count": null,
   "id": "915e3a8a",
   "metadata": {},
   "outputs": [],
   "source": [
    "import numpy as np\n",
    "\n",
    "arr = np.array([10,20,30,40,50,60]) \n",
    "\n",
    "print(arr[arr > 25])"
   ]
  },
  {
   "cell_type": "markdown",
   "id": "17552255",
   "metadata": {},
   "source": [
    "Reshaping Data"
   ]
  },
  {
   "cell_type": "code",
   "execution_count": null,
   "id": "03dc8855",
   "metadata": {},
   "outputs": [],
   "source": [
    "import numpy as np\n",
    "\n",
    "arr = np.array([1,2,3,4,5,6]) \n",
    "reshaped_arr = arr.reshape(2 , 3) #i need 2 row and 3 col\n",
    "print(reshaped_arr)"
   ]
  },
  {
   "cell_type": "markdown",
   "id": "b942c82e",
   "metadata": {},
   "source": [
    "Flattening"
   ]
  },
  {
   "cell_type": "code",
   "execution_count": null,
   "id": "426fe8cc",
   "metadata": {},
   "outputs": [],
   "source": [
    "import numpy as np\n",
    "\n",
    "arr = np.array([[1,2,3],\n",
    "                [4,5,6]])\n",
    "\n",
    "print(arr.ravel())\n",
    "print(arr.flatten())"
   ]
  },
  {
   "cell_type": "markdown",
   "id": "63151700",
   "metadata": {},
   "source": [
    "Insert in 1D"
   ]
  },
  {
   "cell_type": "code",
   "execution_count": null,
   "id": "6d5f00f1",
   "metadata": {},
   "outputs": [],
   "source": [
    "import numpy as np\n",
    "\n",
    "arr = np.array([1,2,3,4,5,6]) \n",
    "new_arr = np.insert(arr , 2 , 20 , axis=None)\n",
    "print(new_arr)"
   ]
  },
  {
   "cell_type": "markdown",
   "id": "02d7da9e",
   "metadata": {},
   "source": [
    "Insert in 2D"
   ]
  },
  {
   "cell_type": "code",
   "execution_count": null,
   "id": "643f8b85",
   "metadata": {},
   "outputs": [],
   "source": [
    "import numpy as np\n",
    "\n",
    "arr = np.array([[1,2,3],\n",
    "                [4,5,6]])\n",
    "new_2D = np.insert(arr , 2 , [7,8,9] , axis=0)\n",
    "print(new_2D)"
   ]
  },
  {
   "cell_type": "markdown",
   "id": "683a4d61",
   "metadata": {},
   "source": [
    "Append"
   ]
  },
  {
   "cell_type": "code",
   "execution_count": 1,
   "id": "f00c1955",
   "metadata": {},
   "outputs": [
    {
     "name": "stdout",
     "output_type": "stream",
     "text": [
      "[10 20 30 40 50 60]\n"
     ]
    }
   ],
   "source": [
    "import numpy as np\n",
    "\n",
    "arr = np.array([10,20,30])\n",
    "new_arr = np.append(arr , [40,50,60])\n",
    "print(new_arr)"
   ]
  },
  {
   "cell_type": "markdown",
   "id": "b6b95c3b",
   "metadata": {},
   "source": [
    "Contenate"
   ]
  },
  {
   "cell_type": "code",
   "execution_count": 3,
   "id": "ba3a8193",
   "metadata": {},
   "outputs": [
    {
     "name": "stdout",
     "output_type": "stream",
     "text": [
      "[10 20 30  1  2  3]\n"
     ]
    }
   ],
   "source": [
    "import numpy as np\n",
    "\n",
    "arr1 = np.array([10,20,30])\n",
    "arr2 = np.array([1,2,3])\n",
    "new_arr = np.concatenate((arr1 , arr2) , axis=0)\n",
    "print(new_arr)"
   ]
  },
  {
   "cell_type": "markdown",
   "id": "c2a470a3",
   "metadata": {},
   "source": [
    "Removing elements from the array"
   ]
  },
  {
   "cell_type": "code",
   "execution_count": 4,
   "id": "c8b1c31e",
   "metadata": {},
   "outputs": [
    {
     "name": "stdout",
     "output_type": "stream",
     "text": [
      "[10 30]\n"
     ]
    }
   ],
   "source": [
    "import numpy as np\n",
    "\n",
    "arr = np.array([10,20,30])\n",
    "new_arr = np.delete(arr , 1 , axis=None)\n",
    "print(new_arr)"
   ]
  }
 ],
 "metadata": {
  "kernelspec": {
   "display_name": "Python 3",
   "language": "python",
   "name": "python3"
  },
  "language_info": {
   "codemirror_mode": {
    "name": "ipython",
    "version": 3
   },
   "file_extension": ".py",
   "mimetype": "text/x-python",
   "name": "python",
   "nbconvert_exporter": "python",
   "pygments_lexer": "ipython3",
   "version": "3.11.4"
  }
 },
 "nbformat": 4,
 "nbformat_minor": 5
}

{
 "cells": [
  {
   "cell_type": "markdown",
   "id": "d540563a",
   "metadata": {},
   "source": [
    "Basics"
   ]
  },
  {
   "cell_type": "code",
   "execution_count": null,
   "id": "9ec5352b",
   "metadata": {},
   "outputs": [],
   "source": [
    "python_list = [1,2,3,4,5,6]\n",
    "print(\"List \\n\" , python_list)\n",
    "\n",
    "import numpy as np\n",
    "\n",
    "numpy_array = np.array([1,2,3,4,5,6])\n",
    "print(\"\\n Numpy Array \\n\" , numpy_array)\n",
    "\n",
    "# this is called 1D array\n"
   ]
  },
  {
   "cell_type": "markdown",
   "id": "26a8d88b",
   "metadata": {},
   "source": [
    "2 D array - also called matrix"
   ]
  },
  {
   "cell_type": "code",
   "execution_count": null,
   "id": "df651511",
   "metadata": {},
   "outputs": [],
   "source": [
    "import numpy as np\n",
    "\n",
    "# isme rows and col dono hote hai\n",
    "numpy_array = np.array([[1,2,3],\n",
    "                        [4,5,6],\n",
    "                        [7,8,9]])\n",
    "print(numpy_array)"
   ]
  },
  {
   "cell_type": "markdown",
   "id": "0e68be9e",
   "metadata": {},
   "source": [
    "Multi Dimensional Array - also called matrix"
   ]
  },
  {
   "cell_type": "code",
   "execution_count": null,
   "id": "9cb0c363",
   "metadata": {},
   "outputs": [],
   "source": [
    "import numpy as np\n",
    "\n",
    "matrix = np.array([[2,4,6],\n",
    "                   [8,10,12]])\n",
    "print(matrix)"
   ]
  },
  {
   "cell_type": "markdown",
   "id": "eb9e20c5",
   "metadata": {},
   "source": [
    "Creating arrays from python list "
   ]
  },
  {
   "cell_type": "code",
   "execution_count": null,
   "id": "6bd5e043",
   "metadata": {},
   "outputs": [],
   "source": [
    "import numpy as np\n",
    "\n",
    "numpy_array = np.array([1,2,3,4,5,6])\n",
    "print(\"\\n Numpy Array \\n\" , numpy_array)"
   ]
  },
  {
   "cell_type": "markdown",
   "id": "7b763d0f",
   "metadata": {},
   "source": [
    "Array with default values"
   ]
  },
  {
   "cell_type": "code",
   "execution_count": null,
   "id": "f00028d6",
   "metadata": {},
   "outputs": [],
   "source": [
    "import numpy as np\n",
    "\n",
    "\n",
    "# default 0s value\n",
    "zeros_array = np.zeros(3)\n",
    "print(zeros_array)\n",
    "\n",
    "# default 1s value\n",
    "one_array = np.ones(3)\n",
    "print(one_array)\n",
    "\n",
    "one1_array = np.ones([2,3])\n",
    "print(one1_array)\n",
    "\n",
    "# with specific value - use full(shape , value)\n",
    "filled_arr = np.full([2,2] , 7)\n",
    "print(filled_arr)"
   ]
  },
  {
   "cell_type": "markdown",
   "id": "96c003f3",
   "metadata": {},
   "source": [
    "Creating sequences of array in numpy"
   ]
  },
  {
   "cell_type": "code",
   "execution_count": null,
   "id": "27f518a2",
   "metadata": {},
   "outputs": [],
   "source": [
    "import numpy as np\n",
    "\n",
    "arr = np.arange(1,10,2)\n",
    "print(arr)"
   ]
  },
  {
   "cell_type": "markdown",
   "id": "e5082218",
   "metadata": {},
   "source": [
    "Identity Matrix"
   ]
  },
  {
   "cell_type": "code",
   "execution_count": 15,
   "id": "1da71c6d",
   "metadata": {},
   "outputs": [
    {
     "name": "stdout",
     "output_type": "stream",
     "text": [
      "[[1. 0. 0.]\n",
      " [0. 1. 0.]\n",
      " [0. 0. 1.]]\n"
     ]
    }
   ],
   "source": [
    "import numpy as np\n",
    "\n",
    "identity_matrix = np.eye(3)\n",
    "print(identity_matrix)"
   ]
  }
 ],
 "metadata": {
  "kernelspec": {
   "display_name": "Python 3",
   "language": "python",
   "name": "python3"
  },
  "language_info": {
   "codemirror_mode": {
    "name": "ipython",
    "version": 3
   },
   "file_extension": ".py",
   "mimetype": "text/x-python",
   "name": "python",
   "nbconvert_exporter": "python",
   "pygments_lexer": "ipython3",
   "version": "3.11.4"
  }
 },
 "nbformat": 4,
 "nbformat_minor": 5
}

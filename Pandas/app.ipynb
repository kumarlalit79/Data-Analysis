{
 "cells": [
  {
   "cell_type": "markdown",
   "id": "6e11f8df",
   "metadata": {},
   "source": [
    "Data Manupulation"
   ]
  },
  {
   "cell_type": "code",
   "execution_count": null,
   "id": "51347a7d",
   "metadata": {},
   "outputs": [],
   "source": [
    "import pandas as pd\n",
    "\n",
    "df = pd.read_csv(\"SampleData.csv\")\n",
    "print(df)"
   ]
  },
  {
   "cell_type": "code",
   "execution_count": null,
   "id": "b4ec203e",
   "metadata": {},
   "outputs": [],
   "source": [
    "import pandas as pd\n",
    "\n",
    "# df = pd.read_csv(\"SampleData.csv\" , encoding=\"latin1\")\n",
    "# df = pd.read_csv(\"SampleData.csv\" , encoding=\"utf-8\")\n",
    "\n",
    "\n",
    "df = pd.read_json()\n",
    "print(df)"
   ]
  },
  {
   "cell_type": "markdown",
   "id": "fddfab77",
   "metadata": {},
   "source": [
    "Data analysis "
   ]
  },
  {
   "cell_type": "code",
   "execution_count": null,
   "id": "54c9b8ff",
   "metadata": {},
   "outputs": [],
   "source": [
    "import pandas as pd\n",
    "\n",
    "data = {\n",
    "    \"Name\" : ['Ram' , 'Shyam', 'Bham'], #list\n",
    "    \"Age\" : [10,20,30],\n",
    "    \"City\" : [\"Delhi\",\"Mumbai\",\"goa\"]\n",
    "}\n",
    "\n",
    "print(data)\n",
    "print()\n",
    "\n",
    "# creating datafrom of it - means converting into 2D\n",
    "df = pd.DataFrame(data)\n",
    "print(df)\n",
    "\n",
    "#save this data into csv\n",
    "df.to_csv(\"output.csv\" , index=False)"
   ]
  },
  {
   "cell_type": "markdown",
   "id": "c6972435",
   "metadata": {},
   "source": [
    "check rows - previewing the data"
   ]
  },
  {
   "cell_type": "code",
   "execution_count": null,
   "id": "ca6fcae8",
   "metadata": {},
   "outputs": [],
   "source": [
    "import pandas as pd\n",
    "\n",
    "df = pd.read_csv(\"SampleData.csv\")\n",
    "\n",
    "print(\"Starting rows\" , df.head(5))\n",
    "print()\n",
    "print(\"Ending rows\" , df.tail(5))"
   ]
  },
  {
   "cell_type": "markdown",
   "id": "fee2e471",
   "metadata": {},
   "source": [
    "Understanding the data"
   ]
  },
  {
   "cell_type": "code",
   "execution_count": null,
   "id": "6c578f3f",
   "metadata": {},
   "outputs": [],
   "source": [
    "import pandas as pd\n",
    "\n",
    "df = pd.read_csv(\"SampleData.csv\")\n",
    "\n",
    "print(\"Displaying the info of the data set\")\n",
    "print(df.info())"
   ]
  },
  {
   "cell_type": "markdown",
   "id": "9c4f774e",
   "metadata": {},
   "source": [
    "Describe method"
   ]
  },
  {
   "cell_type": "code",
   "execution_count": null,
   "id": "223e391d",
   "metadata": {},
   "outputs": [],
   "source": [
    "import pandas as pd\n",
    "\n",
    "# dictionary ke thorugh data bana lete hai\n",
    "data = {\n",
    "    \"Name\" : ['Ram', 'Shyam' , 'Rahul' , 'aditi' , 'modi' , 'kaam','raj','simran'],\n",
    "    \"Age\" : [10,20,30,40,50,60,55,21],\n",
    "    \"Salary\" : [2000,3000,4000,5000,6000,7000,5487,3265],\n",
    "    \"Performance Score\" : [85,32,15,78,95,66,45,78]\n",
    "}\n",
    "\n",
    "df = pd.DataFrame(data)\n",
    "print(\"Sample Dataframe\" , df)\n",
    "print()\n",
    "\n",
    "# descritptive statistic\n",
    "print(\"descritptive statistic\" , df.describe())"
   ]
  }
 ],
 "metadata": {
  "kernelspec": {
   "display_name": "Python 3",
   "language": "python",
   "name": "python3"
  },
  "language_info": {
   "codemirror_mode": {
    "name": "ipython",
    "version": 3
   },
   "file_extension": ".py",
   "mimetype": "text/x-python",
   "name": "python",
   "nbconvert_exporter": "python",
   "pygments_lexer": "ipython3",
   "version": "3.11.4"
  }
 },
 "nbformat": 4,
 "nbformat_minor": 5
}

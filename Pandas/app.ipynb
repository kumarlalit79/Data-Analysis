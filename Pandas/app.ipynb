{
 "cells": [
  {
   "cell_type": "markdown",
   "id": "6e11f8df",
   "metadata": {},
   "source": [
    "Data Manupulation"
   ]
  },
  {
   "cell_type": "code",
   "execution_count": null,
   "id": "51347a7d",
   "metadata": {},
   "outputs": [],
   "source": [
    "import pandas as pd\n",
    "\n",
    "df = pd.read_csv(\"SampleData.csv\")\n",
    "print(df)"
   ]
  },
  {
   "cell_type": "code",
   "execution_count": null,
   "id": "b4ec203e",
   "metadata": {},
   "outputs": [],
   "source": [
    "import pandas as pd\n",
    "\n",
    "# df = pd.read_csv(\"SampleData.csv\" , encoding=\"latin1\")\n",
    "# df = pd.read_csv(\"SampleData.csv\" , encoding=\"utf-8\")\n",
    "\n",
    "\n",
    "df = pd.read_json()\n",
    "print(df)"
   ]
  },
  {
   "cell_type": "markdown",
   "id": "fddfab77",
   "metadata": {},
   "source": [
    "Data analysis"
   ]
  },
  {
   "cell_type": "code",
   "execution_count": null,
   "id": "54c9b8ff",
   "metadata": {},
   "outputs": [],
   "source": [
    "import pandas as pd\n",
    "\n",
    "data = {\n",
    "    \"Name\" : ['Ram' , 'Shyam', 'Bham'], #list\n",
    "    \"Age\" : [10,20,30],\n",
    "    \"City\" : [\"Delhi\",\"Mumbai\",\"goa\"]\n",
    "}\n",
    "\n",
    "# creating datafrom of it"
   ]
  }
 ],
 "metadata": {
  "kernelspec": {
   "display_name": "Python 3",
   "language": "python",
   "name": "python3"
  },
  "language_info": {
   "codemirror_mode": {
    "name": "ipython",
    "version": 3
   },
   "file_extension": ".py",
   "mimetype": "text/x-python",
   "name": "python",
   "nbconvert_exporter": "python",
   "pygments_lexer": "ipython3",
   "version": "3.11.4"
  }
 },
 "nbformat": 4,
 "nbformat_minor": 5
}

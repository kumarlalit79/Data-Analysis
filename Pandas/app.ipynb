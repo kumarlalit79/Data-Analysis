{
 "cells": [
  {
   "cell_type": "markdown",
   "id": "6e11f8df",
   "metadata": {},
   "source": [
    "Data Manupulation"
   ]
  },
  {
   "cell_type": "code",
   "execution_count": null,
   "id": "51347a7d",
   "metadata": {},
   "outputs": [],
   "source": [
    "import pandas as pd\n",
    "\n",
    "df = pd.read_csv(\"SampleData.csv\")\n",
    "print(df)"
   ]
  },
  {
   "cell_type": "code",
   "execution_count": null,
   "id": "b4ec203e",
   "metadata": {},
   "outputs": [],
   "source": [
    "import pandas as pd\n",
    "\n",
    "# df = pd.read_csv(\"SampleData.csv\" , encoding=\"latin1\")\n",
    "# df = pd.read_csv(\"SampleData.csv\" , encoding=\"utf-8\")\n",
    "\n",
    "\n",
    "df = pd.read_json()\n",
    "print(df)"
   ]
  },
  {
   "cell_type": "markdown",
   "id": "fddfab77",
   "metadata": {},
   "source": [
    "Data analysis "
   ]
  },
  {
   "cell_type": "code",
   "execution_count": null,
   "id": "54c9b8ff",
   "metadata": {},
   "outputs": [],
   "source": [
    "import pandas as pd\n",
    "\n",
    "data = {\n",
    "    \"Name\" : ['Ram' , 'Shyam', 'Bham'], #list\n",
    "    \"Age\" : [10,20,30],\n",
    "    \"City\" : [\"Delhi\",\"Mumbai\",\"goa\"]\n",
    "}\n",
    "\n",
    "print(data)\n",
    "print()\n",
    "\n",
    "# creating datafrom of it - means converting into 2D\n",
    "df = pd.DataFrame(data)\n",
    "print(df)\n",
    "\n",
    "#save this data into csv\n",
    "df.to_csv(\"output.csv\" , index=False)"
   ]
  },
  {
   "cell_type": "markdown",
   "id": "c6972435",
   "metadata": {},
   "source": [
    "check rows - previewing the data"
   ]
  },
  {
   "cell_type": "code",
   "execution_count": null,
   "id": "ca6fcae8",
   "metadata": {},
   "outputs": [],
   "source": [
    "import pandas as pd\n",
    "\n",
    "df = pd.read_csv(\"SampleData.csv\")\n",
    "\n",
    "print(\"Starting rows\" , df.head(5))\n",
    "print()\n",
    "print(\"Ending rows\" , df.tail(5))"
   ]
  },
  {
   "cell_type": "markdown",
   "id": "fee2e471",
   "metadata": {},
   "source": [
    "Understanding the data"
   ]
  },
  {
   "cell_type": "code",
   "execution_count": null,
   "id": "6c578f3f",
   "metadata": {},
   "outputs": [],
   "source": [
    "import pandas as pd\n",
    "\n",
    "df = pd.read_csv(\"SampleData.csv\")\n",
    "\n",
    "print(\"Displaying the info of the data set\")\n",
    "print(df.info())"
   ]
  },
  {
   "cell_type": "markdown",
   "id": "9c4f774e",
   "metadata": {},
   "source": [
    "Describe method"
   ]
  },
  {
   "cell_type": "code",
   "execution_count": null,
   "id": "223e391d",
   "metadata": {},
   "outputs": [],
   "source": [
    "import pandas as pd\n",
    "\n",
    "# dictionary ke thorugh data bana lete hai\n",
    "data = {\n",
    "    \"Name\" : ['Ram', 'Shyam' , 'Rahul' , 'aditi' , 'modi' , 'kaam','raj','simran'],\n",
    "    \"Age\" : [10,20,30,40,50,60,55,21],\n",
    "    \"Salary\" : [2000,3000,4000,5000,6000,7000,5487,3265],\n",
    "    \"Performance Score\" : [85,32,15,78,95,66,45,78]\n",
    "}\n",
    "\n",
    "df = pd.DataFrame(data)\n",
    "print(\"Sample Dataframe\" , df)\n",
    "print()\n",
    "\n",
    "# descritptive statistic\n",
    "print(\"descritptive statistic\" , df.describe())"
   ]
  },
  {
   "cell_type": "markdown",
   "id": "4378d355",
   "metadata": {},
   "source": [
    "Shape and column"
   ]
  },
  {
   "cell_type": "code",
   "execution_count": null,
   "id": "f1e817ea",
   "metadata": {},
   "outputs": [],
   "source": [
    "import pandas as pd\n",
    "\n",
    "\n",
    "data = {\n",
    "    \"Name\" : ['Ram', 'Shyam' , 'Rahul' , 'aditi' , 'modi' , 'kaam','raj','simran'],\n",
    "    \"Age\" : [10,20,30,40,50,60,55,21],\n",
    "    \"Salary\" : [2000,3000,4000,5000,6000,7000,5487,3265],\n",
    "    \"Performance Score\" : [85,32,15,78,95,66,45,78]\n",
    "}\n",
    "\n",
    "print(\"Shape : \" , df.shape)\n",
    "print(\"Columns : \" , df.columns)\n"
   ]
  },
  {
   "cell_type": "markdown",
   "id": "65424dd5",
   "metadata": {},
   "source": [
    "How to select specific column and how to filter the rows"
   ]
  },
  {
   "cell_type": "code",
   "execution_count": null,
   "id": "8dfe0e3b",
   "metadata": {},
   "outputs": [],
   "source": [
    "import pandas as pd\n",
    "\n",
    "\n",
    "data = {\n",
    "    \"Name\" : ['Ram', 'Shyam' , 'Rahul' , 'aditi' , 'modi' , 'kaam','raj','simran'],\n",
    "    \"Age\" : [10,20,30,40,50,60,55,21],\n",
    "    \"Salary\" : [2000,3000,4000,5000,6000,7000,5487,3265],\n",
    "    \"Performance Score\" : [85,32,15,78,95,66,45,78]\n",
    "}\n",
    "\n",
    "# seleting 1 column at a time\n",
    "column = df[\"Name\"]\n",
    "# print(column)\n",
    "\n",
    "# seleting multiple column at a time\n",
    "multi = df[[\"Name\" , \"Age\" , \"Salary\"]]\n",
    "print(multi)\n"
   ]
  },
  {
   "cell_type": "markdown",
   "id": "0ef4bce2",
   "metadata": {},
   "source": [
    "Row filter"
   ]
  },
  {
   "cell_type": "code",
   "execution_count": null,
   "id": "df194d3a",
   "metadata": {},
   "outputs": [],
   "source": [
    "import pandas as pd\n",
    "\n",
    "\n",
    "data = {\n",
    "    \"Name\" : ['Ram', 'Shyam' , 'Rahul' , 'aditi' , 'modi' , 'kaam','raj','simran'],\n",
    "    \"Age\" : [10,20,30,40,50,60,55,21],\n",
    "    \"Salary\" : [2000,3000,4000,5000,6000,7000,5487,3265],\n",
    "    \"Performance Score\" : [85,32,15,78,95,66,45,78]\n",
    "}\n",
    "df = pd.DataFrame(data)\n",
    "\n",
    "# filter on basis single condition\n",
    "high_salary = df[df['Salary'] > 5000]\n",
    "print(\"high_salary \\n\" , high_salary)\n",
    "\n",
    "print()\n",
    "\n",
    "# filter on basis multiple condition\n",
    "age_salary = df[(df['Salary']) > 5000 & (df['Age'] < 55)]\n",
    "print(\"high_salary , age_salary \\n\" , age_salary)"
   ]
  },
  {
   "cell_type": "markdown",
   "id": "410c795e",
   "metadata": {},
   "source": [
    "Adding new columns"
   ]
  },
  {
   "cell_type": "code",
   "execution_count": null,
   "id": "8c97bb74",
   "metadata": {},
   "outputs": [],
   "source": [
    "import pandas as pd\n",
    "\n",
    "# Method 1\n",
    "data = {\n",
    "    \"Name\" : ['Ram', 'Shyam' , 'Rahul' , 'aditi' , 'modi' , 'kaam','raj','simran'],\n",
    "    \"Age\" : [10,20,30,40,50,60,55,21],\n",
    "    \"Salary\" : [2000,3000,4000,5000,6000,7000,5487,3265],\n",
    "    \"Performance Score\" : [85,32,15,78,95,66,45,78]\n",
    "}\n",
    "df = pd.DataFrame(data)\n",
    "df[\"Bonus\"] = df[\"Salary\"] * 0.1 # salary col mai 10% increase kar diya\n",
    "print(df)\n"
   ]
  },
  {
   "cell_type": "code",
   "execution_count": null,
   "id": "f719acbe",
   "metadata": {},
   "outputs": [],
   "source": [
    "import pandas as pd\n",
    "\n",
    "# Method 2\n",
    "data = {\n",
    "    \"Name\" : ['Ram', 'Shyam' , 'Rahul' , 'aditi' , 'modi' , 'kaam','raj','simran'],\n",
    "    \"Age\" : [10,20,30,40,50,60,55,21],\n",
    "    \"Salary\" : [2000,3000,4000,5000,6000,7000,5487,3265],\n",
    "    \"Performance Score\" : [85,32,15,78,95,66,45,78]\n",
    "}\n",
    "df = pd.DataFrame(data)\n",
    "df.insert(0,\"Employee_Id\" , [101,102,103,104,105,106,107,108]) #0th index pe insert kr diya\n",
    "print(df)\n"
   ]
  },
  {
   "cell_type": "markdown",
   "id": "a29da3dc",
   "metadata": {},
   "source": [
    "Updating values"
   ]
  },
  {
   "cell_type": "code",
   "execution_count": null,
   "id": "91f7c48e",
   "metadata": {},
   "outputs": [],
   "source": [
    "import pandas as pd\n",
    "\n",
    "data = {\n",
    "    \"Name\" : ['Ram', 'Shyam' , 'Rahul' , 'aditi' , 'modi' , 'kaam','raj','simran'],\n",
    "    \"Age\" : [10,20,30,40,50,60,55,21],\n",
    "    \"Salary\" : [2000,3000,4000,5000,6000,7000,5487,3265],\n",
    "    \"Performance Score\" : [85,32,15,78,95,66,45,78]\n",
    "}\n",
    "df = pd.DataFrame(data)\n",
    "df.loc[0 , \"Salary\"] = 10000 #ram ki salary 5k se 10k kardi\n",
    "print(df)\n"
   ]
  },
  {
   "cell_type": "markdown",
   "id": "3b247117",
   "metadata": {},
   "source": [
    "updating more than 1 value"
   ]
  },
  {
   "cell_type": "code",
   "execution_count": null,
   "id": "f41366a5",
   "metadata": {},
   "outputs": [],
   "source": [
    "import pandas as pd\n",
    "\n",
    "data = {\n",
    "    \"Name\" : ['Ram', 'Shyam' , 'Rahul' , 'aditi' , 'modi' , 'kaam','raj','simran'],\n",
    "    \"Age\" : [10,20,30,40,50,60,55,21],\n",
    "    \"Salary\" : [2000,3000,4000,5000,6000,7000,5487,3265],\n",
    "    \"Performance Score\" : [85,32,15,78,95,66,45,78]\n",
    "}\n",
    "df = pd.DataFrame(data)\n",
    "df[\"Salary\"] = df['Salary'] * 1.05 #phhle col select kiya than = col ki value ko 5% inc kr diya \n",
    "print(df) #poori row ki value 1 baar mai change"
   ]
  },
  {
   "cell_type": "markdown",
   "id": "46292899",
   "metadata": {},
   "source": [
    "Removing columns"
   ]
  },
  {
   "cell_type": "code",
   "execution_count": null,
   "id": "58347b05",
   "metadata": {},
   "outputs": [],
   "source": [
    "import pandas as pd\n",
    "\n",
    "data = {\n",
    "    \"Name\" : ['Ram', 'Shyam' , 'Rahul' , 'aditi' , 'modi' , 'kaam','raj','simran'],\n",
    "    \"Age\" : [10,20,30,40,50,60,55,21],\n",
    "    \"Salary\" : [2000,3000,4000,5000,6000,7000,5487,3265],\n",
    "    \"Performance Score\" : [85,32,15,78,95,66,45,78]\n",
    "}\n",
    "df = pd.DataFrame(data)\n",
    "\n",
    "# removing single col\n",
    "# df.drop(columns=[\"Performance Score\"] , inplace=True)\n",
    "# print(df)\n",
    "\n",
    "# removing multiple col\n",
    "df.drop(columns=[\"Performance Score\" , \"Age\"] , inplace=True)\n",
    "print(df)"
   ]
  },
  {
   "cell_type": "markdown",
   "id": "f2f7f82c",
   "metadata": {},
   "source": [
    "Handling Missing Data"
   ]
  },
  {
   "cell_type": "code",
   "execution_count": null,
   "id": "17d3f94f",
   "metadata": {},
   "outputs": [],
   "source": [
    "import pandas as pd\n",
    "\n",
    "data = {\n",
    "    \"Name\" : ['Ram', None , 'Rahul' , 'aditi' , 'modi' , 'kaam','raj','simran'],\n",
    "    \"Age\" : [10,None,30,40,50,60,55,21],\n",
    "    \"Salary\" : [2000,None,4000,5000,6000,7000,5487,3265],\n",
    "    \"Performance Score\" : [85,None,15,78,95,66,45,78]\n",
    "}\n",
    "df = pd.DataFrame(data)\n",
    "# print(df.isnull())\n",
    "print(df.isnull().sum())"
   ]
  },
  {
   "cell_type": "markdown",
   "id": "b3c8fdf4",
   "metadata": {},
   "source": [
    "Handling missing value"
   ]
  },
  {
   "cell_type": "code",
   "execution_count": null,
   "id": "384fefe9",
   "metadata": {},
   "outputs": [],
   "source": [
    "import pandas as pd\n",
    "\n",
    "data = {\n",
    "    \"Name\" : ['Ram', None , 'Rahul' , 'aditi' , 'modi' , 'kaam','raj','simran'],\n",
    "    \"Age\" : [10,None,30,40,50,60,55,21],\n",
    "    \"Salary\" : [2000,None,4000,5000,6000,7000,5487,3265],\n",
    "    \"Performance Score\" : [85,None,15,78,95,66,45,78]\n",
    "}\n",
    "df = pd.DataFrame(data)\n",
    "df.dropna(axis=0 , inplace=True)\n",
    "print(df)"
   ]
  },
  {
   "cell_type": "markdown",
   "id": "59f324df",
   "metadata": {},
   "source": [
    "Fill default value in place of null value"
   ]
  },
  {
   "cell_type": "code",
   "execution_count": null,
   "id": "8b77129b",
   "metadata": {},
   "outputs": [],
   "source": [
    "import pandas as pd\n",
    "\n",
    "data = {\n",
    "    \"Name\" : ['Ram', None , 'Rahul' , 'aditi' , 'modi' , 'kaam','raj','simran'],\n",
    "    \"Age\" : [10,None,30,40,50,60,55,21],\n",
    "    \"Salary\" : [2000,None,4000,5000,6000,7000,5487,3265],\n",
    "    \"Performance Score\" : [85,None,15,78,95,66,45,78]\n",
    "}\n",
    "df = pd.DataFrame(data)\n",
    "df.fillna(0, inplace=True) # 0 value set krdo null ki jgh\n",
    "print(df)"
   ]
  },
  {
   "cell_type": "markdown",
   "id": "f37318ad",
   "metadata": {},
   "source": [
    "Fill calculated value in place of null value"
   ]
  },
  {
   "cell_type": "code",
   "execution_count": null,
   "id": "e2b7fd00",
   "metadata": {},
   "outputs": [],
   "source": [
    "import pandas as pd\n",
    "\n",
    "data = {\n",
    "    \"Name\" : ['Ram', None , 'Rahul' , 'aditi' , 'modi' , 'kaam','raj','simran'],\n",
    "    \"Age\" : [10,None,30,40,50,60,55,21],\n",
    "    \"Salary\" : [2000,None,4000,5000,6000,7000,5487,3265],\n",
    "    \"Performance Score\" : [85,None,15,78,95,66,45,78]\n",
    "}\n",
    "df = pd.DataFrame(data)\n",
    "\n",
    "age_mean = df['Age'].mean()\n",
    "salary_mean = df['Salary'].mean()\n",
    "\n",
    "df['Age'].fillna(age_mean , inplace=True)\n",
    "df['Salary'].fillna(salary_mean , inplace=True)\n",
    "print(df)"
   ]
  },
  {
   "cell_type": "markdown",
   "id": "21e50ec5",
   "metadata": {},
   "source": [
    "Interpolation"
   ]
  },
  {
   "cell_type": "code",
   "execution_count": null,
   "id": "924729a5",
   "metadata": {},
   "outputs": [],
   "source": [
    "import pandas as pd\n",
    "\n",
    "data = {\n",
    "    \"Name\" : ['Ram', 'Shyam' , 'Rahul' , 'aditi' , 'modi' , 'kaam','raj','simran'],\n",
    "    \"Age\" : [10,None,30,40,50,60,55,21],\n",
    "    \"Salary\" : [2000,None,4000,5000,6000,7000,5487,3265],\n",
    "    \"Performance Score\" : [85,None,15,78,95,66,45,78]\n",
    "}\n",
    "df = pd.DataFrame(data)\n",
    "\n",
    "# method could be linear, polynomial, time. axis=0 means row mai apply karna hai\n",
    "df.interpolate(method='linear' , axis=0, inplace=True)\n",
    "print(df)"
   ]
  },
  {
   "cell_type": "markdown",
   "id": "9e8f8bb5",
   "metadata": {},
   "source": [
    "Linear Interpolation"
   ]
  },
  {
   "cell_type": "code",
   "execution_count": null,
   "id": "5a928e08",
   "metadata": {},
   "outputs": [],
   "source": [
    "import pandas as pd\n",
    "\n",
    "data = {\n",
    "    \"Time\" : [1,2,3,4,5],\n",
    "    \"Value\" : [10,None,30,None,50]\n",
    "}\n",
    "df = pd.DataFrame(data)\n",
    "print(\"Before interploation \\n\" , df)\n",
    "\n",
    "# df.interpolate(method='linear' , axis=0, inplace=True)\n",
    "\n",
    "# ese bhi kr skte or upper waale tareeke se bhi jo comment kiya hai\n",
    "df[\"Value\"] = df[\"Value\"].interpolate(method='linear')\n",
    "\n",
    "print(\"\\n After interploation \\n\" , df)"
   ]
  },
  {
   "cell_type": "markdown",
   "id": "1d1f4af3",
   "metadata": {},
   "source": [
    "Sorting - single col"
   ]
  },
  {
   "cell_type": "code",
   "execution_count": null,
   "id": "182d92c9",
   "metadata": {},
   "outputs": [],
   "source": [
    "import pandas as pd\n",
    "\n",
    "data = {\n",
    "    \"Name\" : ['Ram', 'Shyam' , 'Rahul' , 'aditi' , 'modi' , 'kaam','raj','simran'],\n",
    "    \"Age\" : [10,100,36,21,50,60,55,30],\n",
    "    \"Salary\" : [6000,4000,2000,326,5000,6000,7000,5487]\n",
    "}\n",
    "df = pd.DataFrame(data)\n",
    "\n",
    "# sorting age in ascending order\n",
    "df.sort_values(by=\"Age\" ,ascending=True , inplace=True)\n",
    "print(df)"
   ]
  },
  {
   "cell_type": "markdown",
   "id": "0a53fcb4",
   "metadata": {},
   "source": [
    "sorting - multiple col"
   ]
  },
  {
   "cell_type": "code",
   "execution_count": null,
   "id": "4cc80779",
   "metadata": {},
   "outputs": [],
   "source": [
    "import pandas as pd\n",
    "\n",
    "data = {\n",
    "    \"Name\" : ['Ram', 'Shyam' , 'Rahul' , 'aditi' , 'modi' , 'kaam','raj','simran'],\n",
    "    \"Age\" : [10,100,36,21,50,60,55,30],\n",
    "    \"Salary\" : [6000,4000,2000,326,5000,6000,7000,5487]\n",
    "}\n",
    "df = pd.DataFrame(data)\n",
    "\n",
    "# sorting age in ascending order\n",
    "df.sort_values(by=[\"Age\" , \"Salary\"] ,ascending=[True,False] , inplace=True)\n",
    "print(df)"
   ]
  },
  {
   "cell_type": "markdown",
   "id": "9042cfca",
   "metadata": {},
   "source": [
    "Aggrigate"
   ]
  },
  {
   "cell_type": "code",
   "execution_count": null,
   "id": "767c22ac",
   "metadata": {},
   "outputs": [],
   "source": [
    "import pandas as pd\n",
    "\n",
    "data = {\n",
    "    \"Name\" : ['Ram', 'Shyam' , 'Rahul' , 'aditi' , 'modi' , 'kaam','raj','simran'],\n",
    "    \"Age\" : [10,100,36,21,50,60,55,30],\n",
    "    \"Salary\" : [6000,4000,2000,326,5000,6000,7000,5487]\n",
    "}\n",
    "df = pd.DataFrame(data)\n",
    "\n",
    "avg_salary = df[\"Salary\"].mean()\n",
    "print(\"Average Salary = \" , avg_salary)"
   ]
  },
  {
   "cell_type": "markdown",
   "id": "8ebeb384",
   "metadata": {},
   "source": [
    "Groupping - single"
   ]
  },
  {
   "cell_type": "code",
   "execution_count": null,
   "id": "acad061f",
   "metadata": {},
   "outputs": [],
   "source": [
    "import pandas as pd\n",
    "\n",
    "data = {\n",
    "    \"Name\" : ['Ram', 'Shyam' , 'Rahul' , 'aditi' , 'modi' , 'kaam','raj','simran'],\n",
    "    \"Age\" : [10,100,36,21,50,60,55,30],\n",
    "    \"Salary\" : [6000,4000,2000,326,5000,6000,7000,5487]\n",
    "}\n",
    "df = pd.DataFrame(data)\n",
    "groupped = df.groupby(\"Age\")[\"Salary\"].sum()\n",
    "print(groupped)"
   ]
  },
  {
   "cell_type": "markdown",
   "id": "39edf7a8",
   "metadata": {},
   "source": [
    "Groupping - multiple"
   ]
  },
  {
   "cell_type": "code",
   "execution_count": null,
   "id": "87fb5273",
   "metadata": {},
   "outputs": [],
   "source": [
    "import pandas as pd\n",
    "\n",
    "data = {\n",
    "    \"Name\" : ['Ram', 'Shyam' , 'Rahul' , 'aditi' , 'modi' , 'kaam','raj','simran'],\n",
    "    \"Age\" : [10,100,36,21,50,60,55,30],\n",
    "    \"Salary\" : [6000,4000,2000,326,5000,6000,7000,5487]\n",
    "}\n",
    "df = pd.DataFrame(data)\n",
    "\n",
    "# is baar bas list form mai pass kardo multiple col ko\n",
    "groupped = df.groupby([\"Age\", \"Name\"])[\"Salary\"].sum()\n",
    "print(groupped)"
   ]
  },
  {
   "cell_type": "markdown",
   "id": "0fedee44",
   "metadata": {},
   "source": [
    "Merging"
   ]
  },
  {
   "cell_type": "code",
   "execution_count": 12,
   "id": "bcf10095",
   "metadata": {},
   "outputs": [
    {
     "name": "stdout",
     "output_type": "stream",
     "text": [
      "\n",
      " Inner \n",
      "    CustomerId CustomerName  OrderAmount\n",
      "0           1         Aalu          250\n",
      "1           2         Kalu          450\n",
      "\n",
      " outer \n",
      "    CustomerId CustomerName  OrderAmount\n",
      "0           1         Aalu        250.0\n",
      "1           2         Kalu        450.0\n",
      "2           3        Chalu          NaN\n",
      "3           4          NaN        350.0\n",
      "\n",
      " left \n",
      "    CustomerId CustomerName  OrderAmount\n",
      "0           1         Aalu        250.0\n",
      "1           2         Kalu        450.0\n",
      "2           3        Chalu          NaN\n",
      "\n",
      " right \n",
      "    CustomerId CustomerName  OrderAmount\n",
      "0           1         Aalu          250\n",
      "1           2         Kalu          450\n",
      "2           4          NaN          350\n"
     ]
    }
   ],
   "source": [
    "import pandas as pd\n",
    "\n",
    "# dataframe 1\n",
    "df_customers = pd.DataFrame({\n",
    "    'CustomerId' : [1,2,3],\n",
    "    'CustomerName' : ['Aalu', 'Kalu' , 'Chalu']\n",
    "})\n",
    "\n",
    "# dataframe 2\n",
    "df_orders = pd.DataFrame({\n",
    "    'CustomerId' : [1,2,4], # one unique id(4) which is not matching with above df\n",
    "    'OrderAmount' : [250,450,350]\n",
    "})\n",
    "\n",
    "# merge on the basis of CustomerId\n",
    "df_merged = pd.merge(df_customers , df_orders , on=\"CustomerId\" , how=\"inner\")\n",
    "print(\"\\n Inner \\n\" , df_merged)\n",
    "\n",
    "df_merged = pd.merge(df_customers , df_orders , on=\"CustomerId\" , how=\"outer\")\n",
    "print(\"\\n outer \\n\" , df_merged)\n",
    "\n",
    "df_merged = pd.merge(df_customers , df_orders , on=\"CustomerId\" , how=\"left\")\n",
    "print(\"\\n left \\n\" , df_merged)\n",
    "\n",
    "df_merged = pd.merge(df_customers , df_orders , on=\"CustomerId\" , how=\"right\")\n",
    "print(\"\\n right \\n\" , df_merged)\n"
   ]
  }
 ],
 "metadata": {
  "kernelspec": {
   "display_name": "Python 3",
   "language": "python",
   "name": "python3"
  },
  "language_info": {
   "codemirror_mode": {
    "name": "ipython",
    "version": 3
   },
   "file_extension": ".py",
   "mimetype": "text/x-python",
   "name": "python",
   "nbconvert_exporter": "python",
   "pygments_lexer": "ipython3",
   "version": "3.11.4"
  }
 },
 "nbformat": 4,
 "nbformat_minor": 5
}
